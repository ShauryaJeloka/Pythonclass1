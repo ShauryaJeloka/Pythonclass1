{
 "cells": [
  {
   "cell_type": "code",
   "execution_count": 1,
   "id": "executed-generator",
   "metadata": {},
   "outputs": [],
   "source": [
    "seasons = ['Winter', 'Spring', 'Summer', 'Monsoon', 'Fall']"
   ]
  },
  {
   "cell_type": "code",
   "execution_count": 2,
   "id": "rental-democrat",
   "metadata": {},
   "outputs": [],
   "source": [
    "seasons[0] = 'Win'"
   ]
  },
  {
   "cell_type": "code",
   "execution_count": 3,
   "id": "sunset-baker",
   "metadata": {},
   "outputs": [
    {
     "data": {
      "text/plain": [
       "['Win', 'Spring', 'Summer', 'Monsoon', 'Fall']"
      ]
     },
     "execution_count": 3,
     "metadata": {},
     "output_type": "execute_result"
    }
   ],
   "source": [
    "seasons"
   ]
  },
  {
   "cell_type": "code",
   "execution_count": 4,
   "id": "continental-nerve",
   "metadata": {},
   "outputs": [],
   "source": [
    "seasons[1:3] = 'Spri', 'Sum'"
   ]
  },
  {
   "cell_type": "code",
   "execution_count": 8,
   "id": "aware-clinton",
   "metadata": {},
   "outputs": [
    {
     "data": {
      "text/plain": [
       "['Win', 'Spri', 'Sum', 'Monsoon', 'Fall']"
      ]
     },
     "execution_count": 8,
     "metadata": {},
     "output_type": "execute_result"
    }
   ],
   "source": [
    "seasons[:5]"
   ]
  },
  {
   "cell_type": "code",
   "execution_count": 9,
   "id": "anonymous-daily",
   "metadata": {},
   "outputs": [],
   "source": [
    "seasons[:3] = ['Winter', 'Spring', 'Summer']"
   ]
  },
  {
   "cell_type": "code",
   "execution_count": 13,
   "id": "choice-analyst",
   "metadata": {},
   "outputs": [],
   "source": [
    "seasons.insert(4, 'Autumn')"
   ]
  },
  {
   "cell_type": "code",
   "execution_count": 21,
   "id": "reflected-context",
   "metadata": {},
   "outputs": [],
   "source": [
    "seasons[5:7] = ['Fall'] "
   ]
  },
  {
   "cell_type": "code",
   "execution_count": 22,
   "id": "critical-italy",
   "metadata": {},
   "outputs": [
    {
     "data": {
      "text/plain": [
       "['Winter', 'Spring', 'Summer', 'Monsoon', 'Autumn', 'Fall']"
      ]
     },
     "execution_count": 22,
     "metadata": {},
     "output_type": "execute_result"
    }
   ],
   "source": [
    "seasons"
   ]
  }
 ],
 "metadata": {
  "kernelspec": {
   "display_name": "Python 3",
   "language": "python",
   "name": "python3"
  },
  "language_info": {
   "codemirror_mode": {
    "name": "ipython",
    "version": 3
   },
   "file_extension": ".py",
   "mimetype": "text/x-python",
   "name": "python",
   "nbconvert_exporter": "python",
   "pygments_lexer": "ipython3",
   "version": "3.9.1"
  }
 },
 "nbformat": 4,
 "nbformat_minor": 5
}
