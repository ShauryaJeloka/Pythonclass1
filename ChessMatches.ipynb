{
 "cells": [
  {
   "cell_type": "code",
   "execution_count": 44,
   "id": "blessed-suicide",
   "metadata": {},
   "outputs": [],
   "source": [
    "import pandas as pd\n",
    "import matplotlib.pyplot as plt\n",
    "import matplotlib\n",
    "import numpy as np\n",
    "%matplotlib inline\n",
    "games_df = pd.read_csv(\"games.csv\")"
   ]
  },
  {
   "cell_type": "code",
   "execution_count": 45,
   "id": "continued-lemon",
   "metadata": {},
   "outputs": [
    {
     "data": {
      "text/html": [
       "<div>\n",
       "<style scoped>\n",
       "    .dataframe tbody tr th:only-of-type {\n",
       "        vertical-align: middle;\n",
       "    }\n",
       "\n",
       "    .dataframe tbody tr th {\n",
       "        vertical-align: top;\n",
       "    }\n",
       "\n",
       "    .dataframe thead th {\n",
       "        text-align: right;\n",
       "    }\n",
       "</style>\n",
       "<table border=\"1\" class=\"dataframe\">\n",
       "  <thead>\n",
       "    <tr style=\"text-align: right;\">\n",
       "      <th></th>\n",
       "      <th>created_at</th>\n",
       "      <th>last_move_at</th>\n",
       "      <th>turns</th>\n",
       "      <th>white_rating</th>\n",
       "      <th>black_rating</th>\n",
       "      <th>opening_ply</th>\n",
       "    </tr>\n",
       "  </thead>\n",
       "  <tbody>\n",
       "    <tr>\n",
       "      <th>count</th>\n",
       "      <td>2.005800e+04</td>\n",
       "      <td>2.005800e+04</td>\n",
       "      <td>20058.000000</td>\n",
       "      <td>20058.000000</td>\n",
       "      <td>20058.000000</td>\n",
       "      <td>20058.000000</td>\n",
       "    </tr>\n",
       "    <tr>\n",
       "      <th>mean</th>\n",
       "      <td>1.483617e+12</td>\n",
       "      <td>1.483618e+12</td>\n",
       "      <td>60.465999</td>\n",
       "      <td>1596.631868</td>\n",
       "      <td>1588.831987</td>\n",
       "      <td>4.816981</td>\n",
       "    </tr>\n",
       "    <tr>\n",
       "      <th>std</th>\n",
       "      <td>2.850151e+10</td>\n",
       "      <td>2.850140e+10</td>\n",
       "      <td>33.570585</td>\n",
       "      <td>291.253376</td>\n",
       "      <td>291.036126</td>\n",
       "      <td>2.797152</td>\n",
       "    </tr>\n",
       "    <tr>\n",
       "      <th>min</th>\n",
       "      <td>1.376772e+12</td>\n",
       "      <td>1.376772e+12</td>\n",
       "      <td>1.000000</td>\n",
       "      <td>784.000000</td>\n",
       "      <td>789.000000</td>\n",
       "      <td>1.000000</td>\n",
       "    </tr>\n",
       "    <tr>\n",
       "      <th>25%</th>\n",
       "      <td>1.477548e+12</td>\n",
       "      <td>1.477548e+12</td>\n",
       "      <td>37.000000</td>\n",
       "      <td>1398.000000</td>\n",
       "      <td>1391.000000</td>\n",
       "      <td>3.000000</td>\n",
       "    </tr>\n",
       "    <tr>\n",
       "      <th>50%</th>\n",
       "      <td>1.496010e+12</td>\n",
       "      <td>1.496010e+12</td>\n",
       "      <td>55.000000</td>\n",
       "      <td>1567.000000</td>\n",
       "      <td>1562.000000</td>\n",
       "      <td>4.000000</td>\n",
       "    </tr>\n",
       "    <tr>\n",
       "      <th>75%</th>\n",
       "      <td>1.503170e+12</td>\n",
       "      <td>1.503170e+12</td>\n",
       "      <td>79.000000</td>\n",
       "      <td>1793.000000</td>\n",
       "      <td>1784.000000</td>\n",
       "      <td>6.000000</td>\n",
       "    </tr>\n",
       "    <tr>\n",
       "      <th>max</th>\n",
       "      <td>1.504493e+12</td>\n",
       "      <td>1.504494e+12</td>\n",
       "      <td>349.000000</td>\n",
       "      <td>2700.000000</td>\n",
       "      <td>2723.000000</td>\n",
       "      <td>28.000000</td>\n",
       "    </tr>\n",
       "  </tbody>\n",
       "</table>\n",
       "</div>"
      ],
      "text/plain": [
       "         created_at  last_move_at         turns  white_rating  black_rating  \\\n",
       "count  2.005800e+04  2.005800e+04  20058.000000  20058.000000  20058.000000   \n",
       "mean   1.483617e+12  1.483618e+12     60.465999   1596.631868   1588.831987   \n",
       "std    2.850151e+10  2.850140e+10     33.570585    291.253376    291.036126   \n",
       "min    1.376772e+12  1.376772e+12      1.000000    784.000000    789.000000   \n",
       "25%    1.477548e+12  1.477548e+12     37.000000   1398.000000   1391.000000   \n",
       "50%    1.496010e+12  1.496010e+12     55.000000   1567.000000   1562.000000   \n",
       "75%    1.503170e+12  1.503170e+12     79.000000   1793.000000   1784.000000   \n",
       "max    1.504493e+12  1.504494e+12    349.000000   2700.000000   2723.000000   \n",
       "\n",
       "        opening_ply  \n",
       "count  20058.000000  \n",
       "mean       4.816981  \n",
       "std        2.797152  \n",
       "min        1.000000  \n",
       "25%        3.000000  \n",
       "50%        4.000000  \n",
       "75%        6.000000  \n",
       "max       28.000000  "
      ]
     },
     "execution_count": 45,
     "metadata": {},
     "output_type": "execute_result"
    }
   ],
   "source": [
    "games_df.describe()"
   ]
  },
  {
   "cell_type": "code",
   "execution_count": 46,
   "id": "convertible-graphic",
   "metadata": {},
   "outputs": [],
   "source": [
    "def getwinners(r1, r2, winner):\n",
    "    return len(games_df[(games_df[r1]>games_df[r2])&(games_df['winner']==winner)])*100/len(games_df[games_df[r1]>games_df[r2]])"
   ]
  },
  {
   "cell_type": "code",
   "execution_count": 47,
   "id": "hollywood-understanding",
   "metadata": {},
   "outputs": [
    {
     "name": "stdout",
     "output_type": "stream",
     "text": [
      "Win percentage of white when white has a higher rating: 64\n",
      "Win percentage of black when white has a higher rating: 31\n",
      "Win percentage of black when black has a higher rating: 60\n",
      "Win percentage of white when black has a higher rating: 35\n"
     ]
    }
   ],
   "source": [
    "print('Win percentage of white when white has a higher rating:', round(getwinners('white_rating', 'black_rating', 'white')))\n",
    "print('Win percentage of black when white has a higher rating:', round(getwinners('white_rating', 'black_rating', 'black')))\n",
    "print('Win percentage of black when black has a higher rating:', round(getwinners('black_rating', 'white_rating', 'black')))\n",
    "print('Win percentage of white when black has a higher rating:', round(getwinners('black_rating', 'white_rating', 'white')))"
   ]
  },
  {
   "cell_type": "markdown",
   "id": "antique-launch",
   "metadata": {},
   "source": [
    "As expected, the player with the higher rating usually wins the game. However, there is a difference of 4 percent between the black and white win percentage in each scenario-Almost like white has an advantage..."
   ]
  },
  {
   "cell_type": "code",
   "execution_count": 48,
   "id": "loving-duplicate",
   "metadata": {},
   "outputs": [],
   "source": [
    "games_df['avrating'] = (games_df['white_rating']+games_df['black_rating'])/2"
   ]
  },
  {
   "cell_type": "code",
   "execution_count": 49,
   "id": "sophisticated-teacher",
   "metadata": {},
   "outputs": [
    {
     "data": {
      "text/html": [
       "<div>\n",
       "<style scoped>\n",
       "    .dataframe tbody tr th:only-of-type {\n",
       "        vertical-align: middle;\n",
       "    }\n",
       "\n",
       "    .dataframe tbody tr th {\n",
       "        vertical-align: top;\n",
       "    }\n",
       "\n",
       "    .dataframe thead th {\n",
       "        text-align: right;\n",
       "    }\n",
       "</style>\n",
       "<table border=\"1\" class=\"dataframe\">\n",
       "  <thead>\n",
       "    <tr style=\"text-align: right;\">\n",
       "      <th></th>\n",
       "      <th>avrating</th>\n",
       "    </tr>\n",
       "    <tr>\n",
       "      <th>rated</th>\n",
       "      <th></th>\n",
       "    </tr>\n",
       "  </thead>\n",
       "  <tbody>\n",
       "    <tr>\n",
       "      <th>False</th>\n",
       "      <td>1582.091596</td>\n",
       "    </tr>\n",
       "    <tr>\n",
       "      <th>True</th>\n",
       "      <td>1595.302600</td>\n",
       "    </tr>\n",
       "  </tbody>\n",
       "</table>\n",
       "</div>"
      ],
      "text/plain": [
       "          avrating\n",
       "rated             \n",
       "False  1582.091596\n",
       "True   1595.302600"
      ]
     },
     "execution_count": 49,
     "metadata": {},
     "output_type": "execute_result"
    }
   ],
   "source": [
    "games_df.groupby('rated').agg({'avrating': 'mean'})"
   ]
  },
  {
   "cell_type": "markdown",
   "id": "competitive-attachment",
   "metadata": {},
   "source": [
    "There isn't much of a difference between player ratings in rated and unrated matches - about 13.2/1595 (less than one percent)."
   ]
  },
  {
   "cell_type": "code",
   "execution_count": 50,
   "id": "fourth-directive",
   "metadata": {},
   "outputs": [],
   "source": [
    "gamesrated = games_df[games_df['rated']]\n",
    "gamesnotrated = games_df[~games_df['rated']]"
   ]
  },
  {
   "cell_type": "code",
   "execution_count": 51,
   "id": "furnished-daisy",
   "metadata": {},
   "outputs": [
    {
     "name": "stdout",
     "output_type": "stream",
     "text": [
      "Number of unrated games that white won: 1949\n",
      "Number of unrated games that black won: 1723\n",
      "Number of unrated games that ended in a draw: 231\n"
     ]
    }
   ],
   "source": [
    "print('Number of unrated games that white won:', len(gamesnotrated.query(\"winner == 'white'\")))\n",
    "print('Number of unrated games that black won:', len(gamesnotrated.query(\"winner == 'black'\")))\n",
    "print('Number of unrated games that ended in a draw:', len(gamesnotrated.query(\"winner == 'draw'\")))"
   ]
  },
  {
   "cell_type": "code",
   "execution_count": 52,
   "id": "periodic-fortune",
   "metadata": {},
   "outputs": [
    {
     "data": {
      "image/png": "[encoded data removed]",
      "text/plain": [
       "<Figure size 432x288 with 1 Axes>"
      ]
     },
     "metadata": {},
     "output_type": "display_data"
    }
   ],
   "source": [
    "labels = 'White', 'Black', 'Tie'\n",
    "sizes = [len(gamesnotrated.query(\"winner == 'white'\"))*100/len(gamesnotrated), \n",
    "        len(gamesnotrated.query(\"winner == 'black'\"))*100/len(gamesnotrated), \n",
    "        len(gamesnotrated.query(\"winner == 'draw'\"))*100/len(gamesnotrated)]\n",
    "fig1, ax1 = plt.subplots()\n",
    "ax1.pie(sizes, labels=labels, autopct='%1.1f%%',\n",
    "        shadow=True, startangle=90)\n",
    "ax1.axis('equal') \n",
    "plt.show()"
   ]
  },
  {
   "cell_type": "code",
   "execution_count": 53,
   "id": "noble-development",
   "metadata": {},
   "outputs": [
    {
     "name": "stdout",
     "output_type": "stream",
     "text": [
      "Number of rated games that white won: 8052\n",
      "Number of rated games that black won: 7384\n",
      "Number of rated games that ended in a draw: 719\n"
     ]
    },
    {
     "data": {
      "text/plain": [
       "16155"
      ]
     },
     "execution_count": 53,
     "metadata": {},
     "output_type": "execute_result"
    }
   ],
   "source": [
    "print('Number of rated games that white won:', len(gamesrated.query(\"winner == 'white'\")))\n",
    "print('Number of rated games that black won:', len(gamesrated.query(\"winner == 'black'\")))\n",
    "print('Number of rated games that ended in a draw:', len(gamesrated.query(\"winner == 'draw'\")))\n",
    "len(gamesrated)"
   ]
  },
  {
   "cell_type": "code",
   "execution_count": 54,
   "id": "humanitarian-ecology",
   "metadata": {},
   "outputs": [
    {
     "data": {
      "image/png": "[encoded data removed]",
      "text/plain": [
       "<Figure size 432x288 with 1 Axes>"
      ]
     },
     "metadata": {},
     "output_type": "display_data"
    }
   ],
   "source": [
    "labels = 'White', 'Black', 'Tie'\n",
    "sizes = [len(gamesrated.query(\"winner == 'white'\"))*100/len(gamesrated), \n",
    "        len(gamesrated.query(\"winner == 'black'\"))*100/len(gamesrated), \n",
    "        len(gamesrated.query(\"winner == 'draw'\"))*100/len(gamesrated)]\n",
    "fig1, ax1 = plt.subplots()\n",
    "ax1.pie(sizes, labels=labels, autopct='%1.1f%%',\n",
    "        shadow=True, startangle=90)\n",
    "ax1.axis('equal') \n",
    "\n",
    "plt.show()"
   ]
  },
  {
   "cell_type": "markdown",
   "id": "applicable-inventory",
   "metadata": {},
   "source": [
    "The player playing white seems to have an obvious advantage over the player playing black, regardless of the ratings"
   ]
  },
  {
   "cell_type": "code",
   "execution_count": 55,
   "id": "fantastic-fancy",
   "metadata": {},
   "outputs": [
    {
     "data": {
      "text/html": [
       "<div>\n",
       "<style scoped>\n",
       "    .dataframe tbody tr th:only-of-type {\n",
       "        vertical-align: middle;\n",
       "    }\n",
       "\n",
       "    .dataframe tbody tr th {\n",
       "        vertical-align: top;\n",
       "    }\n",
       "\n",
       "    .dataframe thead th {\n",
       "        text-align: right;\n",
       "    }\n",
       "</style>\n",
       "<table border=\"1\" class=\"dataframe\">\n",
       "  <thead>\n",
       "    <tr style=\"text-align: right;\">\n",
       "      <th></th>\n",
       "      <th>turns</th>\n",
       "    </tr>\n",
       "    <tr>\n",
       "      <th>winner</th>\n",
       "      <th></th>\n",
       "    </tr>\n",
       "  </thead>\n",
       "  <tbody>\n",
       "    <tr>\n",
       "      <th>black</th>\n",
       "      <td>60.724388</td>\n",
       "    </tr>\n",
       "    <tr>\n",
       "      <th>draw</th>\n",
       "      <td>86.157895</td>\n",
       "    </tr>\n",
       "    <tr>\n",
       "      <th>white</th>\n",
       "      <td>57.790221</td>\n",
       "    </tr>\n",
       "  </tbody>\n",
       "</table>\n",
       "</div>"
      ],
      "text/plain": [
       "            turns\n",
       "winner           \n",
       "black   60.724388\n",
       "draw    86.157895\n",
       "white   57.790221"
      ]
     },
     "execution_count": 55,
     "metadata": {},
     "output_type": "execute_result"
    }
   ],
   "source": [
    "games_df.groupby('winner').agg({'turns': 'mean'})"
   ]
  },
  {
   "cell_type": "markdown",
   "id": "interim-looking",
   "metadata": {},
   "source": [
    "That's interesting. The matches that ended in a draw usually had more turns played than matches won by either side, as expected. However, the matches won by the player playing black seem to last more than 5 percent longer than those won by the player playing white."
   ]
  },
  {
   "cell_type": "code",
   "execution_count": 56,
   "id": "meaning-hearing",
   "metadata": {},
   "outputs": [
    {
     "data": {
      "text/html": [
       "<div>\n",
       "<style scoped>\n",
       "    .dataframe tbody tr th:only-of-type {\n",
       "        vertical-align: middle;\n",
       "    }\n",
       "\n",
       "    .dataframe tbody tr th {\n",
       "        vertical-align: top;\n",
       "    }\n",
       "\n",
       "    .dataframe thead th {\n",
       "        text-align: right;\n",
       "    }\n",
       "</style>\n",
       "<table border=\"1\" class=\"dataframe\">\n",
       "  <thead>\n",
       "    <tr style=\"text-align: right;\">\n",
       "      <th></th>\n",
       "      <th>turns</th>\n",
       "    </tr>\n",
       "    <tr>\n",
       "      <th>rated</th>\n",
       "      <th></th>\n",
       "    </tr>\n",
       "  </thead>\n",
       "  <tbody>\n",
       "    <tr>\n",
       "      <th>False</th>\n",
       "      <td>54.271586</td>\n",
       "    </tr>\n",
       "    <tr>\n",
       "      <th>True</th>\n",
       "      <td>61.962550</td>\n",
       "    </tr>\n",
       "  </tbody>\n",
       "</table>\n",
       "</div>"
      ],
      "text/plain": [
       "           turns\n",
       "rated           \n",
       "False  54.271586\n",
       "True   61.962550"
      ]
     },
     "execution_count": 56,
     "metadata": {},
     "output_type": "execute_result"
    }
   ],
   "source": [
    "games_df.groupby('rated').agg({'turns':'mean'})"
   ]
  },
  {
   "cell_type": "markdown",
   "id": "bibliographic-rings",
   "metadata": {},
   "source": [
    "The games that were rated generally had 7.7 more turns played per match than the unrated games"
   ]
  },
  {
   "cell_type": "code",
   "execution_count": 57,
   "id": "pediatric-ethernet",
   "metadata": {},
   "outputs": [],
   "source": [
    "games150 = games_df.sample(150)"
   ]
  },
  {
   "cell_type": "code",
   "execution_count": 58,
   "id": "devoted-looking",
   "metadata": {},
   "outputs": [],
   "source": [
    "intercept, slope = np.polynomial.polynomial.polyfit(\n",
    "    games150.avrating,\n",
    "    games150.turns,\n",
    "    1)\n",
    "ratings = np.array([min(games150.avrating), max(games150.avrating)])\n",
    "turns = intercept + slope * ratings"
   ]
  },
  {
   "cell_type": "code",
   "execution_count": 59,
   "id": "twenty-plate",
   "metadata": {},
   "outputs": [
    {
     "data": {
      "image/png": "[encoded data removed]",
      "text/plain": [
       "<Figure size 432x288 with 1 Axes>"
      ]
     },
     "metadata": {
      "needs_background": "light"
     },
     "output_type": "display_data"
    }
   ],
   "source": [
    "plt.scatter(\"avrating\", \"turns\", data=games150)\n",
    "plt.plot(ratings, turns, color=\"magenta\")\n",
    "plt.title(\"Rating vs Number of Turns\")\n",
    "plt.xlabel(\"Average rating of the players\")\n",
    "plt.ylabel(\"Number of turns played in the match\")\n",
    "plt.show()"
   ]
  },
  {
   "cell_type": "markdown",
   "id": "valid-acoustic",
   "metadata": {},
   "source": [
    "Even though the turns per game were higher in rated games, the average rating of the players seemed to have no correlation with the turns played. The slight slope that can be seen seems to be\n",
    "a result of the lack of data at the extreme ends"
   ]
  },
  {
   "cell_type": "code",
   "execution_count": 60,
   "id": "great-advertiser",
   "metadata": {},
   "outputs": [
    {
     "name": "stdout",
     "output_type": "stream",
     "text": [
      "Printing the frequency\n",
      "Van't Kruijs Opening                                                  226\n",
      "Sicilian Defense                                                      194\n",
      "Sicilian Defense: Bowdler Attack                                      164\n",
      "Scandinavian Defense                                                  123\n",
      "French Defense: Knight Variation                                      121\n",
      "                                                                     ... \n",
      "Four Knights Game: Spanish Variation |  Symmetrical Variation #3        1\n",
      "French Defense: Pelikan Variation                                       1\n",
      "Pirc Defense: Classical Variation |  Quiet System |  Czech Defense      1\n",
      "System: Double Duck Formation                                           1\n",
      "Italian Game: Evans Gambit |  Stone-Ware Variation                      1\n",
      "Name: opening_name, Length: 1145, dtype: int64\n"
     ]
    }
   ],
   "source": [
    "freq = games_df[games_df['winner']=='black']['opening_name'].value_counts()\n",
    "print(\"Printing the frequency\")\n",
    "print(freq)"
   ]
  },
  {
   "cell_type": "markdown",
   "id": "physical-living",
   "metadata": {},
   "source": [
    "This series shows the openings with which the player playing black got the most wins."
   ]
  },
  {
   "cell_type": "code",
   "execution_count": 61,
   "id": "manufactured-advocacy",
   "metadata": {},
   "outputs": [
    {
     "name": "stdout",
     "output_type": "stream",
     "text": [
      "Black win percentage when using the Van't Kruijs Opening: 61.41\n",
      "Black win percentage when using the Sicilian Defense: 54.19\n",
      "Black win percentage when using other openings:  44.94\n"
     ]
    }
   ],
   "source": [
    "print(\"Black win percentage when using the Van't Kruijs Opening:\",\n",
    "round(len(games_df[(games_df['opening_name']==\"Van't Kruijs Opening\")&(games_df['winner']=='black')])*100\n",
    "/len(games_df[games_df['opening_name']==\"Van't Kruijs Opening\"]),2))\n",
    "print('Black win percentage when using the Sicilian Defense:',\n",
    "round(len(games_df[(games_df['opening_name']==\"Sicilian Defense\")&(games_df['winner']=='black')])*100\n",
    "/len(games_df[games_df['opening_name']==\"Sicilian Defense\"]),2))\n",
    "print('Black win percentage when using other openings: ', \n",
    "round(len(games_df[(games_df['winner']=='black')&(~games_df['opening_name'].isin(['Sicilian Defense', \"Van't Kruijs Opening\"]))])*100/len(games_df[~games_df['opening_name'].isin(['Sicilian Defense', \"Van't Kruijs Opening\"])]),2))"
   ]
  },
  {
   "cell_type": "code",
   "execution_count": 62,
   "id": "opposed-delivery",
   "metadata": {},
   "outputs": [
    {
     "data": {
      "image/png": "[encoded data removed]",
      "text/plain": [
       "<Figure size 432x288 with 1 Axes>"
      ]
     },
     "metadata": {
      "needs_background": "light"
     },
     "output_type": "display_data"
    }
   ],
   "source": [
    "fig = plt.figure()\n",
    "ax = fig.add_axes([0,0,1,1])\n",
    "openings = [\"Van't Kruijs\", 'Sicilian', 'Other Openings']\n",
    "percentages = [61.413, 54.19, len(games_df[(games_df['winner']=='black')&(~games_df['opening_name'].isin(['Sicilian Defense', \"Van't Kruijs Opening\"]))])*100/len(games_df[~games_df['opening_name'].isin(['Sicilian Defense', \"Van't Kruijs Opening\"])])]\n",
    "ax.bar(openings, percentages)\n",
    "plt.show()"
   ]
  },
  {
   "cell_type": "markdown",
   "id": "fifteen-speed",
   "metadata": {},
   "source": [
    "We can see that the Van't Kruijs and Sicilain Defense openings provide black with a statistical advantage over the other openings"
   ]
  },
  {
   "cell_type": "code",
   "execution_count": 63,
   "id": "intellectual-jonathan",
   "metadata": {},
   "outputs": [
    {
     "name": "stdout",
     "output_type": "stream",
     "text": [
      "Printing the frequency\n",
      "Scandinavian Defense: Mieses-Kotroc Variation                            164\n",
      "Sicilian Defense                                                         149\n",
      "Scotch Game                                                              145\n",
      "French Defense: Knight Variation                                         135\n",
      "Philidor Defense #3                                                      127\n",
      "                                                                        ... \n",
      "Scotch Game: Malaniuk Variation                                            1\n",
      "Sicilian Defense: Kan Variation |  Maroczy Bind |  Reti Variation          1\n",
      "French Defense: Advance |  Steinitz Variation                              1\n",
      "Budapest Defense                                                           1\n",
      "Four Knights Game: Spanish Variation |  Rubinstein Variation Accepted      1\n",
      "Name: opening_name, Length: 1181, dtype: int64\n"
     ]
    }
   ],
   "source": [
    "freq = games_df[games_df['winner']=='white']['opening_name'].value_counts()\n",
    "print(\"Printing the frequency\")\n",
    "print(freq)"
   ]
  },
  {
   "cell_type": "code",
   "execution_count": 64,
   "id": "appointed-chrome",
   "metadata": {},
   "outputs": [
    {
     "name": "stdout",
     "output_type": "stream",
     "text": [
      "White win percentage when using the Scandinavian Defense: Mieses-Kotroc Variation: 63.32\n",
      "White win percentage when using the Scotch Game: 53.51\n",
      "White win percentage when using other openings: 49.63\n"
     ]
    }
   ],
   "source": [
    "print('White win percentage when using the Scandinavian Defense: Mieses-Kotroc Variation:',\n",
    "round(len(games_df[(games_df['opening_name']==\"Scandinavian Defense: Mieses-Kotroc Variation\")&(games_df['winner']=='white')])*100\n",
    "/len(games_df[games_df['opening_name']==\"Scandinavian Defense: Mieses-Kotroc Variation\"]), 2))\n",
    "print('White win percentage when using the Scotch Game:',\n",
    "round(len(games_df[(games_df['opening_name']==\"Scotch Game\")&(games_df['winner']=='white')])*100\n",
    "/len(games_df[games_df['opening_name']==\"Scotch Game\"]), 2))\n",
    "print('White win percentage when using other openings:',\n",
    "round(len(games_df[(games_df['winner']=='white')&(~games_df['opening_name'].isin(['Scandinavian Defense: Mieses-Kotroc Variation', \"Scotch Game\"]))])*100/len(games_df[~games_df['opening_name'].isin(['Scandinavian Defense: Mieses-Kotroc Variation', \"Scotch Game\"])]), 2))"
   ]
  },
  {
   "cell_type": "code",
   "execution_count": 65,
   "id": "specialized-armstrong",
   "metadata": {},
   "outputs": [
    {
     "data": {
      "image/png": "[encoded data removed]",
      "text/plain": [
       "<Figure size 432x288 with 1 Axes>"
      ]
     },
     "metadata": {
      "needs_background": "light"
     },
     "output_type": "display_data"
    }
   ],
   "source": [
    "fig = plt.figure()\n",
    "ax = fig.add_axes([0,0,1,1])\n",
    "openings = [\"Scandinavian Defense\", 'Scotch Game', 'Other Openings']\n",
    "percentages = [63.32, 53.506, len(games_df[(games_df['winner']=='white')&(~games_df['opening_name'].isin(['Scandinavian Defense: Mieses-Kotroc Variation', \"Scotch Game\"]))])*100/len(games_df[~games_df['opening_name'].isin(['Scandinavian Defense: Mieses-Kotroc Variation', \"Scotch Game\"])])]\n",
    "ax.bar(openings, percentages)\n",
    "plt.show()"
   ]
  },
  {
   "cell_type": "markdown",
   "id": "integral-following",
   "metadata": {},
   "source": [
    "The Scandinavian Defense: Mieses-Kotroc Variation and Scotch Game openings appear to provide white with a statistical advantage over the other openings"
   ]
  }
 ],
 "metadata": {
  "kernelspec": {
   "display_name": "Python 3",
   "language": "python",
   "name": "python3"
  },
  "language_info": {
   "codemirror_mode": {
    "name": "ipython",
    "version": 3
   },
   "file_extension": ".py",
   "mimetype": "text/x-python",
   "name": "python",
   "nbconvert_exporter": "python",
   "pygments_lexer": "ipython3",
   "version": "3.9.1"
  }
 },
 "nbformat": 4,
 "nbformat_minor": 5
}
